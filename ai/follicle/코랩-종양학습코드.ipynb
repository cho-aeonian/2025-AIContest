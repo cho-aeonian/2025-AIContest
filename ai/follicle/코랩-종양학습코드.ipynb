{
 "cells": [
  {
   "cell_type": "code",
   "execution_count": null,
   "metadata": {
    "vscode": {
     "languageId": "plaintext"
    }
   },
   "outputs": [],
   "source": [
    "!wget -O Aquarium_Data.zip \"https://app.roboflow.com/ds/nDIuacDgZx?key=GZKyX0cGHs\""
   ]
  },
  {
   "cell_type": "code",
   "execution_count": null,
   "metadata": {
    "vscode": {
     "languageId": "plaintext"
    }
   },
   "outputs": [],
   "source": [
    "import zipfile"
   ]
  },
  {
   "cell_type": "code",
   "execution_count": null,
   "metadata": {
    "vscode": {
     "languageId": "plaintext"
    }
   },
   "outputs": [],
   "source": [
    "with zipfile.ZipFile('Aquarium_Data.zip') as target_file:\n",
    "  target_file.extractall('Aquarium_Data')"
   ]
  },
  {
   "cell_type": "code",
   "execution_count": null,
   "metadata": {
    "vscode": {
     "languageId": "plaintext"
    }
   },
   "outputs": [],
   "source": [
    "!cat /content/Aquarium_Data/data.yaml"
   ]
  },
  {
   "cell_type": "code",
   "execution_count": null,
   "metadata": {
    "vscode": {
     "languageId": "plaintext"
    }
   },
   "outputs": [],
   "source": [
    "!pip install PyYAML"
   ]
  },
  {
   "cell_type": "code",
   "execution_count": null,
   "metadata": {
    "vscode": {
     "languageId": "plaintext"
    }
   },
   "outputs": [],
   "source": [
    "import yaml\n",
    "\n",
    "data = {\n",
    "    'train' : '/content/Aquarium_Data/train/images/',\n",
    "    'val' : '/content/Aquarium_Data/valid/images',\n",
    "    'test' : '/content/Aquarium_Data/test/images',\n",
    "    'names' : ['follicle'],\n",
    "    'nc' : 1\n",
    "}\n",
    "\n",
    "with open('Aquarium_Data/data.yaml', 'w') as f:\n",
    "  yaml.dump(data, f)\n",
    "\n",
    "\n",
    "with open('Aquarium_Data/data.yaml', 'r') as f:\n",
    "  aquarium_yaml = yaml.safe_load(f)\n",
    "  display(aquarium_yaml)"
   ]
  },
  {
   "cell_type": "code",
   "execution_count": null,
   "metadata": {
    "vscode": {
     "languageId": "plaintext"
    }
   },
   "outputs": [],
   "source": [
    "!pip install ultralytics"
   ]
  },
  {
   "cell_type": "code",
   "execution_count": null,
   "metadata": {
    "vscode": {
     "languageId": "plaintext"
    }
   },
   "outputs": [],
   "source": [
    "import ultralytics\n",
    "\n",
    "ultralytics.checks()"
   ]
  },
  {
   "cell_type": "code",
   "execution_count": null,
   "metadata": {
    "vscode": {
     "languageId": "plaintext"
    }
   },
   "outputs": [],
   "source": [
    "from ultralytics import YOLO\n",
    "\n",
    "model = YOLO('follicle-ai.pt')"
   ]
  },
  {
   "cell_type": "code",
   "execution_count": null,
   "metadata": {
    "vscode": {
     "languageId": "plaintext"
    }
   },
   "outputs": [],
   "source": [
    "print(type(model.names), len(model.names))\n",
    "\n",
    "print(model.names)"
   ]
  },
  {
   "cell_type": "code",
   "execution_count": null,
   "metadata": {
    "vscode": {
     "languageId": "plaintext"
    }
   },
   "outputs": [],
   "source": [
    "model.train(data='/content/Aquarium_Data/data.yaml', epochs=10, imgsz=640)"
   ]
  },
  {
   "cell_type": "code",
   "execution_count": null,
   "metadata": {
    "vscode": {
     "languageId": "plaintext"
    }
   },
   "outputs": [],
   "source": [
    "# 모델 학습 후 결과를 평가하기\n",
    "results = model.val()\n",
    "\n",
    "# results_dict에서 정확도 정보 가져오기\n",
    "metrics = results.results_dict\n",
    "\n",
    "# 출력\n",
    "print(f\"Precision: {metrics['metrics/precision(B)']:.4f}\")\n",
    "print(f\"Recall: {metrics['metrics/recall(B)']:.4f}\")"
   ]
  },
  {
   "cell_type": "code",
   "execution_count": null,
   "metadata": {
    "vscode": {
     "languageId": "plaintext"
    }
   },
   "outputs": [],
   "source": [
    "import matplotlib.pyplot as plt\n",
    "import cv2\n",
    "\n",
    "# 이미지 경로 설정\n",
    "image_path = '/content/gilt—9.jpg'\n",
    "\n",
    "results = model(image_path)  # 모델 예측 수행\n",
    "\n",
    "# 첫 번째 예측 결과에서 'show' 메서드 호출\n",
    "results[0].show()  # 예측된 이미지를 보여줍니다\n",
    "\n",
    "# 예시로, 이미지와 예측 결과를 Matplotlib으로 표시하려면:\n",
    "image = cv2.imread(image_path)\n",
    "# YOLO 모델의 예측 결과로 바운딩 박스를 이미지에 추가\n",
    "for *box, conf, cls in results.xywh[0]:  # 모델의 예측 결과\n",
    "    x1, y1, x2, y2 = map(int, box)  # 바운딩 박스 좌표 추출\n",
    "    label = results.names[int(cls)]  # 예측된 라벨 이름\n",
    "    cv2.rectangle(image, (x1, y1), (x2, y2), (255, 0, 0), 2)  # 바운딩 박스 그리기\n",
    "    cv2.putText(image, label, (x1, y1 - 10), cv2.FONT_HERSHEY_SIMPLEX, 0.9, (255, 255, 0), 2)  # 라벨 텍스트 추가\n",
    "\n",
    "# 이미지 표시\n",
    "plt.imshow(cv2.cvtColor(image, cv2.COLOR_BGR2RGB))\n",
    "plt.axis('off')  # 축을 제거\n",
    "plt.show()"
   ]
  }
 ],
 "metadata": {
  "language_info": {
   "name": "python"
  }
 },
 "nbformat": 4,
 "nbformat_minor": 2
}
